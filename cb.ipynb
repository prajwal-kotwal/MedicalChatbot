{
 "cells": [
  {
   "cell_type": "code",
   "execution_count": 21,
   "metadata": {},
   "outputs": [],
   "source": [
    "from langchain_community.document_loaders import PyPDFDirectoryLoader\n",
    "\n",
    "def load_documents():\n",
    "    document_loader = PyPDFDirectoryLoader(\"data/\")\n",
    "    return document_loader.load()"
   ]
  },
  {
   "cell_type": "code",
   "execution_count": 22,
   "metadata": {},
   "outputs": [],
   "source": [
    "documents = load_documents()"
   ]
  },
  {
   "cell_type": "code",
   "execution_count": 23,
   "metadata": {},
   "outputs": [
    {
     "name": "stdout",
     "output_type": "stream",
     "text": [
      "page_content='TheGALE\n",
      "ENCYCLOPEDIA\n",
      "ofMEDICINE\n",
      "SECOND EDITION' metadata={'source': 'data\\\\four.pdf', 'page': 0}\n"
     ]
    }
   ],
   "source": [
    "print(documents[0])"
   ]
  },
  {
   "cell_type": "code",
   "execution_count": 24,
   "metadata": {},
   "outputs": [],
   "source": [
    "from langchain_text_splitters import RecursiveCharacterTextSplitter\n",
    "from langchain.schema.document import Document\n",
    "\n",
    "def split_documents(documents : list[Document]):\n",
    "    text_splitter = RecursiveCharacterTextSplitter(\n",
    "        chunk_size = 1000,\n",
    "        chunk_overlap = 100,\n",
    "        length_function = len,\n",
    "        is_separator_regex = False,\n",
    "    )\n",
    "    \n",
    "    return text_splitter.split_documents(documents)\n"
   ]
  },
  {
   "cell_type": "code",
   "execution_count": 25,
   "metadata": {},
   "outputs": [
    {
     "name": "stdout",
     "output_type": "stream",
     "text": [
      "page_content='TheGALE\n",
      "ENCYCLOPEDIA\n",
      "ofMEDICINE\n",
      "SECOND EDITION' metadata={'source': 'data\\\\four.pdf', 'page': 0}\n"
     ]
    }
   ],
   "source": [
    "chunks = split_documents(documents)\n",
    "print(chunks[0])"
   ]
  },
  {
   "cell_type": "code",
   "execution_count": 12,
   "metadata": {},
   "outputs": [],
   "source": [
    "\n",
    "from langchain_huggingface import HuggingFaceEmbeddings\n",
    "\n",
    "embeddings_model = HuggingFaceEmbeddings(model_name=\"sentence-transformers/all-mpnet-base-v2\")"
   ]
  },
  {
   "cell_type": "code",
   "execution_count": 17,
   "metadata": {},
   "outputs": [],
   "source": [
    "#run this if you want to delte the already created chroma database\n",
    "'''\n",
    "import os\n",
    "import shutil\n",
    "if os.path.exists(CHROMA_PATH):\n",
    "    shutil.rmtree(CHROMA_PATH)\n",
    "'''\n"
   ]
  },
  {
   "cell_type": "code",
   "execution_count": 5,
   "metadata": {},
   "outputs": [],
   "source": [
    "from langchain.vectorstores.chroma import Chroma\n",
    "CHROMA_PATH = \"chroma\""
   ]
  },
  {
   "cell_type": "code",
   "execution_count": 27,
   "metadata": {},
   "outputs": [],
   "source": [
    "#run this if chroma database is not already created\n",
    "'''\n",
    "db = Chroma.from_documents(\n",
    "    chunks,embeddings_model,persist_directory=CHROMA_PATH\n",
    ")\n",
    "'''"
   ]
  },
  {
   "cell_type": "code",
   "execution_count": 13,
   "metadata": {},
   "outputs": [],
   "source": [
    "#connecting to existing database\n",
    "db = Chroma(persist_directory=CHROMA_PATH,embedding_function=embeddings_model)"
   ]
  },
  {
   "cell_type": "code",
   "execution_count": 50,
   "metadata": {},
   "outputs": [],
   "source": [
    "query = \"what is a stroke\""
   ]
  },
  {
   "cell_type": "code",
   "execution_count": 54,
   "metadata": {},
   "outputs": [
    {
     "name": "stdout",
     "output_type": "stream",
     "text": [
      "A stroke occurs when blood flow is interrupted to\n",
      "part of the brain. Without blood to supply oxygen andnutrients and to remove waste products, brain cellsquickly begin to die. Depending on the region of thebrain affected, a stroke may cause paralysis , speech\n",
      "impairment, loss of memory and reasoning ability, coma ,\n",
      "or death. A stroke is also sometimes called a brain attackor a cerebrovascular accident (CV A).\n",
      "Some important stroke statistics:\n",
      "• more than half a million people in the United States\n",
      "experience a new or recurrent stroke each year\n",
      "• stroke is the third leading cause of death in the United\n",
      "States and the leading cause of disability\n",
      "• stroke kills about 150,000 Americans each year, or\n",
      "almost one out of three stroke victims\n",
      "• three million Americans are currently permanently dis-\n",
      "abled from stroke\n",
      "• in the United States, stroke costs about $30 billion per\n",
      "year in direct costs and loss of productivity\n",
      "\n",
      "---\n",
      "\n",
      "Stroke\n",
      "Strokes occur when the blood supply to the brain is\n",
      "interrupted and brain function becomes impaired due tolack of oxygen. Ischemic strokes occur due to blood ves-sels becoming blocked while hemorrhagic strokes are theresult of broken blood vessels in or near the brain.Ischemic strokes account for about 80% of all strokes.The American Heart Association estimates that over600,000 Americans suffer from strokes each year, withmen having a 20% higher risk of stroke than women,although more women die from strokes. Other risk fac-tors are hypertension (high blood pressure), previousheart attacks, age, family history, high cholesterol, smok-ing, obesity, alcoholism, and physical inactivity. African-Americans have 60 percent greater chances for strokesthan whites.\n",
      "Symptoms of stroke include sudden weakness or\n",
      "numbness, blurring or loss of vision, difficulty speakingor understanding, sudden severe headache , and dizzi-\n",
      "\n",
      "---\n",
      "\n",
      "Association Family Guide to Stroke Treatment, Recovery,and Prevention. New York: Times Books, 1996.\n",
      "Warlow, C. P., et al. Stroke: A Practical Guide to Management.\n",
      "Boston: Blackwell Science, 1996.KEY TERMS\n",
      "Aneurysm —A pouchlike bulging of a blood ves-\n",
      "sel. Aneurysms can rupture, leading to stroke.\n",
      "Atrial fibrillation —A disorder of the heart beat\n",
      "associated with a higher risk of stroke. In this dis-order, the upper chambers (atria) of the heart donot completely empty when the heart beats, whichcan allow blood clots to form.\n",
      "Cerebral embolism —A blockage of blood flow\n",
      "through a vessel in the brain by a blood clot thatformed elsewhere in the body and traveled to thebrain.\n",
      "Cerebral thrombosis —A blockage of blood flow\n",
      "through a vessel in the brain by a blood clot thatformed in the brain itself.\n",
      "Intracerebral hemorrhage —A cause of some\n",
      "strokes in which vessels within the brain beginbleeding.\n",
      "Subarachnoid hemorrhage —A cause of some\n",
      "\n",
      "---\n",
      "\n",
      "year in direct costs and loss of productivity\n",
      "• two-thirds of strokes occur in people over age 65• strokes affect men more often than women, although\n",
      "women are more likely to die from a stroke\n",
      "• strokes affect blacks more often than whites, and are\n",
      "more likely to be fatal among blacks\n",
      "Stroke is a medical emergency requiring immediate\n",
      "treatment. Prompt treatment improves the chances of sur-vival and increases the degree of recovery that may beexpected. A person who may have suffered a strokeshould be seen in a hospital emergency room withoutdelay. Treatment to break up a blood clot, the majorcause of stroke, must begin within three hours of thestroke to be effective. Improved medical treatment of alltypes of stroke has resulted in a dramatic decline in deathrates in recent decades. In 1950, nine in ten died fromstroke, compared to slightly less than one in three today.\n",
      "Causes and symptoms\n",
      "Causes\n",
      "There are four main types of stroke. Cerebral throm-\n",
      "\n",
      "---\n",
      "\n",
      "strokes in which vessels within the brain beginbleeding.\n",
      "Subarachnoid hemorrhage —A cause of some\n",
      "strokes in which arteries on the surface of thebrain begin bleeding.\n",
      "Tissue plasminogen activator (tPA) —A substance\n",
      "that is sometimes given to patients within threehours of a stroke to dissolve blood clots within thebrain.\n",
      "Weiner F., M. H. M. Lee, and H. Bell. Recovering at Home\n",
      "After a Stroke: A Practical Guide for You and Your Family.Los Angeles: The Body Press/Perigee Books, 1994.\n",
      "PERIODICALS\n",
      "Selman, W. R., R. Tarr, and D. M. D. Landis. “Brain Attack:\n",
      "Emergency Treatment of Ischemic Stroke.” American\n",
      "Family Physician 55 (June 1997): 2655-2662.\n",
      "Wolf, P. A., and D. E. Singer. “Preventing Stroke in Atrial Fib-\n",
      "rillation.” American Family Physician (Dec. 1997).\n",
      "ORGANIZATIONS\n",
      "American Heart Association. 7320 Greenville Ave. Dallas, TX\n",
      "75231. (214) 373-6300. <http://www.americanheart.org>.\n",
      "National Stroke Association. 9707 E. Easter Lane, Englewood,\n",
      "\n",
      "---\n",
      "\n",
      "Strokes result in compromised delivery of oxygen to\n",
      "an area of the brain. The consequences of stroke can rangefrom life-threatening, to severe physical or cognitiveimpairments, to apparent or subtle learning disabilities, toundetectable effects. Common stroke symptoms includeweakness or numbness that affects one side of the body,sudden behavioral changes, loss of vision, confusion, lossof speech or the ability to understand spoken words, dizzi-\n",
      "ness,headache , seizures, vomiting, or even coma .\n",
      "Approximately two-thirds of the children who have\n",
      "a stroke will have at least one more. Transfusions havebeen shown to decrease the incidence of a second stroke.A recent study showed that children at highest risk toexperience a first stroke were 10 times more likely tostroke if untreated when compared to high-risk childrentreated with chronic blood transfusion therapy. High-\n",
      "\n",
      "---\n",
      "\n",
      "• blurring or decreased vision in one or both eyes• severe headache , often described as “the worst head-\n",
      "ache of my life”\n",
      "• weakness, numbness, or paralysis of the face, arm, or\n",
      "leg, usually confined to one side of the body\n",
      "• dizziness, loss of balance or coordination, especially\n",
      "when combined with other symptoms\n",
      "Diagnosis\n",
      "The diagnosis of stroke is begun with a careful med-\n",
      "ical history, especially concerning the onset and distribu-tion of symptoms, presence of risk factors, and the exclu-sion of other possible causes. A brief neurological exam isperformed to identify the degree and location of anydeficits, such as weakness, incoordination, or visual losses.\n",
      "Once stroke is suspected, a computed tomography\n",
      "scan (CT scan) or magnetic resonance imaging (MRI)\n",
      "scan is performed to distinguish a stroke caused by bloodclot from one caused by hemorrhage, a critical distinc-\n",
      "GALE ENCYCLOPEDIA OF MEDICINE 2 3195StrokeGEM -2931 to 3236 - S  10/22/03 6:18 PM  Page 3195\n",
      "\n",
      "---\n",
      "\n",
      "Causes and symptoms\n",
      "Causes\n",
      "There are four main types of stroke. Cerebral throm-\n",
      "bosis and cerebral embolism are caused by blood clots\n",
      "that block an artery supplying the brain, either in thebrain itself or in the neck. These account for 70–80% ofall strokes. Subarachnoid hemorrhage and intracere-\n",
      "bral hemorrhage occur when a blood vessel burstsaround or in the brain.\n",
      "Cerebral thrombosis occurs when a blood clot, or\n",
      "thrombus, forms within the brain itself, blocking the flow\n",
      "GALE ENCYCLOPEDIA OF MEDICINE 2 3194StrokeGEM -2931 to 3236 - S  10/22/03 6:18 PM  Page 3194\n",
      "\n",
      "---\n",
      "\n",
      "A hemorrhagic stroke occurs\n",
      "when a blood vessel ruptureswithin the brain.A thombotic stroke occurs\n",
      "when a blood clot blocksa cerebral artery.\n",
      "A hemorrhagic stroke (left) compared to a thrombotic stroke (right). (Illustration by Hans & Cassady, Inc.)GEM -2931 to 3236 - S  10/22/03 6:18 PM  Page 3196\n",
      "\n",
      "---\n",
      "\n",
      "where blockages can lead to a stroke . About 80-85% of\n",
      "all strokes are ischemic. Most blockages in the cerebralarteries are due to a blood clot, often in an artery nar-rowed by plaque. Sometimes, a blood clot in the heart oraorta travels to a cerebral artery. A transient ischemic\n",
      "attack (TIA) is a “mini-stroke” caused by a temporary\n",
      "deficiency of blood supply to the brain. It occurs sudden-ly, lasts a few minutes to a few hours, and is a strongwarning sign of an impending stroke. Ischemia can alsoeffect intestines, legs, feet and kidneys. Pain, malfunc-tions, and damage in those areas may result.\n",
      "Causes and symptoms\n",
      "Ischemia is almost always caused by blockage of an\n",
      "artery, usually due to atherosclerotic plaque. Myocardialischemia is also caused by blood clots (which tend toform on plaque), artery spasms or contractions, or any ofthese factors combined. Silent ischemia is usually causedby emotional or mental stress or by exertion, but there\n"
     ]
    }
   ],
   "source": [
    "results  = db.similarity_search_with_relevance_scores(query,k=10)\n",
    "context_text = '\\n\\n---\\n\\n'.join([doc.page_content for doc, _score in results])\n",
    "print(context_text)"
   ]
  },
  {
   "cell_type": "code",
   "execution_count": 58,
   "metadata": {},
   "outputs": [
    {
     "name": "stdout",
     "output_type": "stream",
     "text": [
      "Sure, here's one:\n",
      "\n",
      "Why don't scientists trust atoms?\n",
      "Because they make up everything!\n",
      "\n",
      "I hope that brought a smile to your face! Do you have a topic or subject you'd like the joke to be about? I can come up with a joke on request.\n"
     ]
    }
   ],
   "source": [
    "from langchain_community.llms import Ollama\n",
    "\n",
    "llm = Ollama(model=\"llama2\")\n",
    "result = llm.invoke(\"tell me a joke\")\n",
    "print(result)"
   ]
  }
 ],
 "metadata": {
  "kernelspec": {
   "display_name": "cb",
   "language": "python",
   "name": "python3"
  },
  "language_info": {
   "codemirror_mode": {
    "name": "ipython",
    "version": 3
   },
   "file_extension": ".py",
   "mimetype": "text/x-python",
   "name": "python",
   "nbconvert_exporter": "python",
   "pygments_lexer": "ipython3",
   "version": "3.11.9"
  }
 },
 "nbformat": 4,
 "nbformat_minor": 2
}
