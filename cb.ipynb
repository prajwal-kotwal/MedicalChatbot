{
 "cells": [
  {
   "cell_type": "code",
   "execution_count": 21,
   "metadata": {},
   "outputs": [],
   "source": [
    "from langchain_community.document_loaders import PyPDFDirectoryLoader\n",
    "\n",
    "def load_documents():\n",
    "    document_loader = PyPDFDirectoryLoader(\"data/\")\n",
    "    return document_loader.load()"
   ]
  },
  {
   "cell_type": "code",
   "execution_count": 22,
   "metadata": {},
   "outputs": [],
   "source": [
    "documents = load_documents()"
   ]
  },
  {
   "cell_type": "code",
   "execution_count": 23,
   "metadata": {},
   "outputs": [
    {
     "name": "stdout",
     "output_type": "stream",
     "text": [
      "page_content='TheGALE\n",
      "ENCYCLOPEDIA\n",
      "ofMEDICINE\n",
      "SECOND EDITION' metadata={'source': 'data\\\\four.pdf', 'page': 0}\n"
     ]
    }
   ],
   "source": [
    "print(documents[0])"
   ]
  },
  {
   "cell_type": "code",
   "execution_count": 24,
   "metadata": {},
   "outputs": [],
   "source": [
    "from langchain_text_splitters import RecursiveCharacterTextSplitter\n",
    "from langchain.schema.document import Document\n",
    "\n",
    "def split_documents(documents : list[Document]):\n",
    "    text_splitter = RecursiveCharacterTextSplitter(\n",
    "        chunk_size = 1000,\n",
    "        chunk_overlap = 100,\n",
    "        length_function = len,\n",
    "        is_separator_regex = False,\n",
    "    )\n",
    "    \n",
    "    return text_splitter.split_documents(documents)\n"
   ]
  },
  {
   "cell_type": "code",
   "execution_count": 25,
   "metadata": {},
   "outputs": [
    {
     "name": "stdout",
     "output_type": "stream",
     "text": [
      "page_content='TheGALE\n",
      "ENCYCLOPEDIA\n",
      "ofMEDICINE\n",
      "SECOND EDITION' metadata={'source': 'data\\\\four.pdf', 'page': 0}\n"
     ]
    }
   ],
   "source": [
    "chunks = split_documents(documents)\n",
    "print(chunks[0])"
   ]
  },
  {
   "cell_type": "code",
   "execution_count": 7,
   "metadata": {},
   "outputs": [
    {
     "name": "stderr",
     "output_type": "stream",
     "text": [
      "c:\\Users\\SMC-HP\\anaconda3\\envs\\cb\\Lib\\site-packages\\sentence_transformers\\cross_encoder\\CrossEncoder.py:11: TqdmExperimentalWarning: Using `tqdm.autonotebook.tqdm` in notebook mode. Use `tqdm.tqdm` instead to force console mode (e.g. in jupyter console)\n",
      "  from tqdm.autonotebook import tqdm, trange\n"
     ]
    }
   ],
   "source": [
    "\n",
    "from langchain_huggingface import HuggingFaceEmbeddings\n",
    "\n",
    "embeddings_model = HuggingFaceEmbeddings(model_name=\"sentence-transformers/all-mpnet-base-v2\")"
   ]
  },
  {
   "cell_type": "code",
   "execution_count": 17,
   "metadata": {},
   "outputs": [],
   "source": [
    "#run this if you want to delte the already created chroma database\n",
    "'''\n",
    "import os\n",
    "import shutil\n",
    "if os.path.exists(CHROMA_PATH):\n",
    "    shutil.rmtree(CHROMA_PATH)\n",
    "'''\n"
   ]
  },
  {
   "cell_type": "code",
   "execution_count": 5,
   "metadata": {},
   "outputs": [],
   "source": [
    "from langchain.vectorstores.chroma import Chroma\n",
    "CHROMA_PATH = \"chroma\""
   ]
  },
  {
   "cell_type": "code",
   "execution_count": 27,
   "metadata": {},
   "outputs": [],
   "source": [
    "#run this if chroma database is not already created\n",
    "\n",
    "db = Chroma.from_documents(\n",
    "    chunks,embeddings_model,persist_directory=CHROMA_PATH\n",
    ")"
   ]
  },
  {
   "cell_type": "code",
   "execution_count": 8,
   "metadata": {},
   "outputs": [],
   "source": [
    "#connecting to existing database\n",
    "db = Chroma(persist_directory=CHROMA_PATH,embedding_function=embeddings_model)"
   ]
  },
  {
   "cell_type": "code",
   "execution_count": 3,
   "metadata": {},
   "outputs": [],
   "source": []
  },
  {
   "cell_type": "code",
   "execution_count": 2,
   "metadata": {},
   "outputs": [],
   "source": []
  },
  {
   "cell_type": "code",
   "execution_count": 1,
   "metadata": {},
   "outputs": [],
   "source": []
  },
  {
   "cell_type": "code",
   "execution_count": 10,
   "metadata": {},
   "outputs": [
    {
     "name": "stdout",
     "output_type": "stream",
     "text": [
      "Human: \n",
      "Answer the questio based only on the following context:\n",
      "• Heredity. Individuals with a family history of acne have\n",
      "greater susceptibility to the disease.\n",
      "• Hormonal changes. Acne can flare up before menstrua-\n",
      "tion, during pregnancy , and menopause .\n",
      "• Diet. No foods cause acne, but certain foods may cause\n",
      "flare-ups.\n",
      "• Drugs. Acne can be a side effect of drugs including\n",
      "tranquilizers, antidepressants, antibiotics ,oral contra-\n",
      "ceptives , and anabolic steroids.\n",
      "• Personal hygiene. Abrasive soaps, hard scrubbing, or\n",
      "picking at pimples will make them worse.\n",
      "• Cosmetics. Oil-based makeup and hair sprays worsen\n",
      "acne.\n",
      "• Environment. Exposure to oils and greases, polluted air,\n",
      "and sweating in hot weather aggravate acne.\n",
      "•Stress . Emotional stress may contribute to acne.\n",
      "Acne is usually not conspicuous, although inflamed\n",
      "lesions may cause pain , tenderness, itching , or swelling.\n",
      "\n",
      "---\n",
      "\n",
      "and bursts open, releasing sebum, bacteria, and skin andwhite blood cells into the surrounding tissues. Inflamedpimples near the skin’s surface are called papules; whendeeper, they are called pustules. The most severe type ofacne consists of cysts (closed sacs) and nodules (hardswellings). Scarring occurs when new skin cells are laiddown to replace damaged cells.\n",
      "The most common sites of acne are the face, chest,\n",
      "shoulders, and back since these are the parts of the bodywhere the most sebaceous follicles are found.\n",
      "Causes and symptoms\n",
      "The exact cause of acne is unknown. Several risk\n",
      "factors have been identified:\n",
      "• Age. Due to the hormonal changes they experience,\n",
      "teenagers are more likely to develop acne.\n",
      "• Gender. Boys have more severe acne and develop it\n",
      "more often than girls.\n",
      "• Disease. Hormonal disorders can complicate acne in\n",
      "girls.\n",
      "• Heredity. Individuals with a family history of acne have\n",
      "greater susceptibility to the disease.\n",
      "\n",
      "---\n",
      "\n",
      "Acne is a skin condition that occurs when pores or\n",
      "hair follicles become blocked. This allows a waxymaterial, sebum, to collect inside the pores or follicles.Normally, sebum flows out onto the skin and hair toform a protective coating, but when it cannot get out,small swellings develop on the skin surface. Bacteriaand dead skin cells can also collect that can causeinflammation. Swellings that are small and notinflamed are whiteheads or blackheads. When theybecome inflamed, they turn into pimples. Pimples thatfill with pus are called pustules.\n",
      "Acne cannot be cured, but acne drugs can help clear\n",
      "the skin. Benzoyl peroxide and tretinoin work by mildlyirritating the skin. This encourages skin cells to sloughoff, which helps open blocked pores. Benzoyl peroxidealso kills bacteria, which helps prevent whiteheads andblackheads from turning into pimples. Isotretinoinshrinks the glands that produce sebum.Description\n",
      "Benzoyl peroxide is found in many over-the-counter\n",
      "\n",
      "---\n",
      "\n",
      "Bark, Joseph P. Your Skin: An Owner’s Guide. Englewood\n",
      "Cliffs, NJ: Prentice Hall, 1995.\n",
      "Goldstein, Sanford M., and Richard B. Odom. “Skin &\n",
      "Appendages: Pustular Disorders.” In Current Medical\n",
      "Diagnosis and Treatment, 1996. 35th ed. Ed. Stephen\n",
      "McPhee, et al. Stamford: Appleton & Lange, 1995.\n",
      "Kaptchuk, Ted J., Z’ev Rosenberg, and K’an Herb Co., Inc.\n",
      "K’an Herbals: Formulas by Ted Kaptchuk, O.M.D. San\n",
      "Francisco: Andrew Miller, 1996.\n",
      "PERIODICALS\n",
      "“Adult Acne.” Harvard Women’s Health Watch (Mar. 1995): 4-\n",
      "5.\n",
      "Bergfeld, Wilma F. “The Evaluation and Management of Acne:\n",
      "Economic Considerations.” Journal of the American\n",
      "Academy of Dermatology 32 (1995): S52-6.\n",
      "Billings, Laura. “Getting Clear.” Health Magazine , Apr. 1997,\n",
      "48-52.\n",
      "Christiano, Donna. “Acne Treatment Meant for Grown- Ups.”\n",
      "American Health (Oct. 1994): 23-4.\n",
      "“Clearly Better New Treatments Help Adult Acne.” Prevention\n",
      "Magazine , Aug. 1997, 50-51.\n",
      "Leyden, James J. “Therapy For Acne Vulgaris.” New England\n",
      "\n",
      "---\n",
      "\n",
      "Anti-androgens, drugs that inhibit androgen produc-\n",
      "tion, are used to treat women who are unresponsive toother therapies. Certain types of oral contraceptives (forKEY TERMS\n",
      "Androgens —Male sex hormones that are linked\n",
      "with the development of acne.\n",
      "Antiandrogens —Drugs that inhibit the production\n",
      "of androgens.\n",
      "Antibiotics —Medicines that kill bacteria.\n",
      "Comedo —A hard plug composed of sebum and\n",
      "dead skin cells. The mildest type of acne.\n",
      "Comedolytic —Drugs that break up comedones\n",
      "and open clogged pores.\n",
      "Corticosteroids —A group of hormones produced\n",
      "by the adrenal glands with different functions,including regulation of fluid balance, androgenactivity, and reaction to inflammation.\n",
      "Estrogens —Hormones produced by the ovaries,\n",
      "the female sex glands.\n",
      "Isotretinoin —A drug that decreases sebum pro-\n",
      "duction and dries up acne pimples.\n",
      "Sebaceous follicles —A structure found within the\n",
      "skin that houses the oil-producing glands and hairfollicles, where pimples form.\n",
      "\n",
      "---\n",
      "\n",
      "disease specialist, or an endocrinologist, a specialist who\n",
      "treats diseases of the body’s endocrine (hormones andglands) system.\n",
      "Acne has a characteristic appearance and is not diffi-\n",
      "cult to diagnose. The doctor takes a complete medicalhistory, including questions about skin care, diet, factorscausing flare-ups, medication use, and prior treatment.Physical examination includes the face, upper neck,\n",
      "chest, shoulders, back, and other affected areas. Undergood lighting, the doctor determines what types and howmany blemishes are present, whether they are inflamed,whether they are deep or superficial, and whether there isscarring or skin discoloration.\n",
      "In teenagers, acne is often found on the forehead,\n",
      "nose, and chin. As people get older, acne tends to appeartowards the outer part of the face. Adult women mayhave acne on their chins and around their mouths. Theelderly may develop whiteheads and blackheads on theupper cheeks and skin around the eyes.\n",
      "\n",
      "---\n",
      "\n",
      "lescence. Nearly 85% of people develop acne at some timebetween the ages of 12-25 years. Up to 20% of womendevelop mild acne. It is also found in some newborns.\n",
      "The sebaceous glands lie just beneath the skin’s sur-\n",
      "face. They produce an oil called sebum, the skin’s naturalmoisturizer. These glands and the hair follicles withinwhich they are found are called sebaceous follicles.These follicles open onto the skin through pores. Atpuberty, increased levels of androgens (male hormones)cause the glands to produce too much sebum. Whenexcess sebum combines with dead, sticky skin cells, ahard plug, or comedo, forms that blocks the pore. Mildnoninflammatory acne consists of the two types of come-dones, whiteheads and blackheads.\n",
      "Moderate and severe inflammatory types of acne\n",
      "result after the plugged follicle is invaded by Propioni-\n",
      "bacterium acnes , a bacteria that normally lives on theskin. A pimple forms when the damaged follicle weakens\n",
      "\n",
      "---\n",
      "\n",
      "Other treatments\n",
      "Several surgical or medical treatments are available\n",
      "to alleviate acne or the resulting scars:\n",
      "• Comedone extraction. The comedo is removed from the\n",
      "pore with a special tool.\n",
      "• Chemical peels. Glycolic acid is applied to peel off the\n",
      "top layer of skin to reduce scarring.\n",
      "• Dermabrasion. The affected skin is frozen with a chem-\n",
      "ical spray, and removed by brushing or planing.\n",
      "• Punch grafting. Deep scars are excised and the area\n",
      "repaired with small skin grafts.\n",
      "• Intralesional injection. Corticosteroids are injected\n",
      "directly into inflamed pimples.\n",
      "• Collagen injection. Shallow scars are elevated by colla-\n",
      "gen (protein) injections.\n",
      "Alternative treatment\n",
      "Alternative treatments for acne focus on proper\n",
      "cleansing to keep the skin oil-free; eating a well-bal-anced diet high in fiber, zinc, and raw foods; and avoid-ing alcohol, dairy products, smoking ,caffeine ,\n",
      "\n",
      "---\n",
      "\n",
      "lesions may cause pain , tenderness, itching , or swelling.\n",
      "The most troubling aspects of these lesions are the nega-tive cosmetic effects and potential for scarring. Somepeople, especially teenagers, become emotionally upsetabout their condition, and have problems forming rela-tionships or keeping jobs.\n",
      "Diagnosis\n",
      "Acne patients are often treated by family doctors.\n",
      "Complicated cases are referred to a dermatologist, a skin\n",
      "GALE ENCYCLOPEDIA OF MEDICINE 2 24AcneGEM - 0001 to 0432 - A  10/22/03 1:41 PM  Page 24\n",
      "\n",
      "---\n",
      "\n",
      "skin that houses the oil-producing glands and hairfollicles, where pimples form.\n",
      "Sebum —An oily skin moisturizer produced by\n",
      "sebaceous glands.\n",
      "Tretinoin —A drug that works by increasing the\n",
      "turnover (death and replacement) of skin cells.example, Ortho-Tri-Cyclen) and female sex hormones\n",
      "(estrogens) reduce hormone activity in the ovaries. Otherdrugs, for example, spironolactone and corticosteroids ,\n",
      "reduce hormone activity in the adrenal glands. Improve-ment may take up to four months.\n",
      "Oral corticosteroids, or anti-inflammatory drugs, are\n",
      "the treatment of choice for an extremely severe, but raretype of destructive inflammatory acne called acne fulmi-nans, found mostly in adolescent males. Acne congloba-ta, a more common form of severe inflammation, is char-acterized by numerous, deep, inflammatory nodules thatheal with scarring. It is treated with oral isotretinoin andcorticosteroids.\n",
      "Other treatments\n",
      "Several surgical or medical treatments are available\n",
      "\n",
      "---\n",
      "Answer the question based on the above context:what is acne\n",
      "\n"
     ]
    }
   ],
   "source": []
  },
  {
   "cell_type": "code",
   "execution_count": 12,
   "metadata": {},
   "outputs": [
    {
     "name": "stdout",
     "output_type": "stream",
     "text": [
      "Unfortunately, I cannot diagnose or treat any medical conditions, including migraines. However, I can provide some general information and advice on how to manage a headache.\n",
      "\n",
      "If you are experiencing a headache, there are several things you can try to alleviate the pain:\n",
      "\n",
      "1. Rest and relaxation: Sometimes, the best thing to do is to rest and relax. Lie down in a quiet, dark room and try to relax. This can help reduce stress and tension, which can contribute to headaches.\n",
      "2. Cold or warm compresses: Applying a cold or warm compress to the forehead or neck may help relieve tension and reduce pain.\n",
      "3. Over-the-counter pain medication: Nonsteroidal anti-inflammatory drugs (NSAIDs) such as ibuprofen or acetaminophen can help reduce pain and inflammation. Always follow the recommended dosage instructions and consult with a doctor before taking any medication.\n",
      "4. Hydration: Dehydration can exacerbate headaches, so drinking plenty of water throughout the day can help prevent and treat headaches.\n",
      "5. Avoiding triggers: Identify and avoid potential triggers for your headaches, such as certain foods, stress, or lack of sleep.\n",
      "6. See a doctor: If your headaches are severe, frequent, or persistent, consult with a doctor to rule out any underlying medical conditions that may need attention.\n",
      "\n",
      "Remember, if you experience any unusual symptoms or warning signs, such as sudden and severe headache, confusion, weakness, or difficulty speaking, seek medical attention immediately.\n"
     ]
    }
   ],
   "source": []
  },
  {
   "cell_type": "code",
   "execution_count": 15,
   "metadata": {},
   "outputs": [],
   "source": [
    "import pickle"
   ]
  },
  {
   "cell_type": "code",
   "execution_count": 20,
   "metadata": {},
   "outputs": [],
   "source": [
    "pickle.dump(embeddings_model, open('model.pkl', 'wb'))"
   ]
  }
 ],
 "metadata": {
  "kernelspec": {
   "display_name": "cb",
   "language": "python",
   "name": "python3"
  },
  "language_info": {
   "codemirror_mode": {
    "name": "ipython",
    "version": 3
   },
   "file_extension": ".py",
   "mimetype": "text/x-python",
   "name": "python",
   "nbconvert_exporter": "python",
   "pygments_lexer": "ipython3",
   "version": "3.11.9"
  }
 },
 "nbformat": 4,
 "nbformat_minor": 2
}
