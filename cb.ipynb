{
 "cells": [
  {
   "cell_type": "code",
   "execution_count": 21,
   "metadata": {},
   "outputs": [],
   "source": [
    "from langchain_community.document_loaders import PyPDFDirectoryLoader\n",
    "\n",
    "def load_documents():\n",
    "    document_loader = PyPDFDirectoryLoader(\"data/\")\n",
    "    return document_loader.load()"
   ]
  },
  {
   "cell_type": "code",
   "execution_count": 22,
   "metadata": {},
   "outputs": [],
   "source": [
    "documents = load_documents()"
   ]
  },
  {
   "cell_type": "code",
   "execution_count": 23,
   "metadata": {},
   "outputs": [
    {
     "name": "stdout",
     "output_type": "stream",
     "text": [
      "page_content='TheGALE\n",
      "ENCYCLOPEDIA\n",
      "ofMEDICINE\n",
      "SECOND EDITION' metadata={'source': 'data\\\\four.pdf', 'page': 0}\n"
     ]
    }
   ],
   "source": [
    "print(documents[0])"
   ]
  },
  {
   "cell_type": "code",
   "execution_count": 24,
   "metadata": {},
   "outputs": [],
   "source": [
    "from langchain_text_splitters import RecursiveCharacterTextSplitter\n",
    "from langchain.schema.document import Document\n",
    "\n",
    "def split_documents(documents : list[Document]):\n",
    "    text_splitter = RecursiveCharacterTextSplitter(\n",
    "        chunk_size = 1000,\n",
    "        chunk_overlap = 100,\n",
    "        length_function = len,\n",
    "        is_separator_regex = False,\n",
    "    )\n",
    "    \n",
    "    return text_splitter.split_documents(documents)\n"
   ]
  },
  {
   "cell_type": "code",
   "execution_count": 25,
   "metadata": {},
   "outputs": [
    {
     "name": "stdout",
     "output_type": "stream",
     "text": [
      "page_content='TheGALE\n",
      "ENCYCLOPEDIA\n",
      "ofMEDICINE\n",
      "SECOND EDITION' metadata={'source': 'data\\\\four.pdf', 'page': 0}\n"
     ]
    }
   ],
   "source": [
    "chunks = split_documents(documents)\n",
    "print(chunks[0])"
   ]
  },
  {
   "cell_type": "code",
   "execution_count": 12,
   "metadata": {},
   "outputs": [],
   "source": [
    "\n",
    "from langchain_huggingface import HuggingFaceEmbeddings\n",
    "\n",
    "embeddings_model = HuggingFaceEmbeddings(model_name=\"sentence-transformers/all-mpnet-base-v2\")"
   ]
  },
  {
   "cell_type": "code",
   "execution_count": 17,
   "metadata": {},
   "outputs": [],
   "source": [
    "#run this if you want to delte the already created chroma database\n",
    "'''\n",
    "import os\n",
    "import shutil\n",
    "if os.path.exists(CHROMA_PATH):\n",
    "    shutil.rmtree(CHROMA_PATH)\n",
    "'''\n"
   ]
  },
  {
   "cell_type": "code",
   "execution_count": 5,
   "metadata": {},
   "outputs": [],
   "source": [
    "from langchain.vectorstores.chroma import Chroma\n",
    "CHROMA_PATH = \"chroma\""
   ]
  },
  {
   "cell_type": "code",
   "execution_count": 27,
   "metadata": {},
   "outputs": [],
   "source": [
    "#run this if chroma database is not already created\n",
    "'''\n",
    "db = Chroma.from_documents(\n",
    "    chunks,embeddings_model,persist_directory=CHROMA_PATH\n",
    ")\n",
    "'''"
   ]
  },
  {
   "cell_type": "code",
   "execution_count": 13,
   "metadata": {},
   "outputs": [],
   "source": [
    "#connecting to existing database\n",
    "db = Chroma(persist_directory=CHROMA_PATH,embedding_function=embeddings_model)"
   ]
  },
  {
   "cell_type": "code",
   "execution_count": 44,
   "metadata": {},
   "outputs": [],
   "source": [
    "query = \"define heart attack\""
   ]
  },
  {
   "cell_type": "code",
   "execution_count": 45,
   "metadata": {},
   "outputs": [
    {
     "name": "stdout",
     "output_type": "stream",
     "text": [
      "A heart attack occurs when one or more of the coro-\n",
      "nary arteries that supply blood to the heart are complete-ly blocked and blood to the heart muscle is cut off. Theblockage is usually caused by atherosclerosis , the build-\n",
      "up of plaque in the artery walls, and/or by a blood clot ina coronary artery. Sometimes, a healthy or atherosclerot-ic coronary artery has a spasm and the blood flow to partof the heart decreases or stops. Why this happens isunclear, but it can result in a heart attack.\n",
      "About half of all heart attack victims wait at least\n",
      "\n",
      "---\n",
      "\n",
      "Ear Foundation. 1817 Patterson St., Nashville, TN 37203.\n",
      "(800) 545-4327. <http://www.earfoundation.org>.\n",
      "Altha Roberts Edgren\n",
      "Heart arrest seeSudden cardiac death\n",
      "Heart arrhythmias seeArrhythmias\n",
      "Heart attack\n",
      "Definition\n",
      "A heart attack is the death of, or damage to, part of\n",
      "the heart muscle because the supply of blood to the heartmuscle is severely reduced or stopped.\n",
      "Description\n",
      "Heart attack is the leading cause of death in the\n",
      "United States. More than 1.5 million Americans suffer aheart attack every year, and almost half a million die,according to the American Heart Association. Most heartattacks are the end result of years of silent but progres-sive coronary artery disease , which can be prevented in\n",
      "many people. A heart attack is often the first symptom ofcoronary artery disease. According to the AmericanHeart Association, 63% of women and 48% of men whodied suddenly of coronary artery disease had no previoussymptoms. Heart attacks are also called myocardialinfarctions (MIs).\n",
      "\n",
      "---\n",
      "\n",
      "•Stress and anger. Some scientists believe that stress and\n",
      "anger can contribute to the development of coronaryartery disease. Stress, the mental and physical reactionto life’s irritations and challenges, increases the heartrate and blood pressure, and can injure the lining of thearteries. Evidence shows that anger increases the risk ofdying from heart disease and more than doubles the riskof having a heart attack right after an episode of anger.\n",
      "More than 60% of heart attack victims experience\n",
      "symptoms before the heart attack occurs. These sometimesoccur days or weeks before the heart attack. Sometimes,people do not recognize the symptoms of a heart attack orare in denial that they are having one. Symptoms are:\n",
      "• Uncomfortable pressure, fullness, squeezing, or pain in\n",
      "the center of the chest. This lasts more than a few min-utes, or may go away and return.• Pain that spreads to the shoulders, neck, or arms.\n",
      "• Chest discomfort accompanied by lightheadedness,\n",
      "\n",
      "---\n",
      "\n",
      "attack . A heart attack (myocardial infarction) is the\n",
      "result of a blockage in an artery which feeds the heart, sothe heart becomes starved for oxygen. The part that hasbeen starved is damaged beyond repair, but the heart canstill beat effectively.\n",
      "Causes and symptoms\n",
      "Sudden cardiac death is usually caused by ventric-\n",
      "ular fibrillation (the lower chamber of the heart quiv-\n",
      "ers instead of pumping in an organized rhythm). Ven-tricular fibrillation almost never returns to normal byitself, so the condition requires immediate intervention.Ventricular tachycardia can also lead to sudden car-\n",
      "diac death. The risk for SCD is higher for anyone withheart disease.\n",
      "When the heart stops beating effectively and the\n",
      "brain is being deprived of oxygenated blood, a medicalemergency exists.\n",
      "Diagnosis\n",
      "Diagnosis of sudden cardiac death is made when\n",
      "there is a sudden loss of consciousness, breathing stops,and there is no effective heart beat.\n",
      "Treatment\n",
      "When sudden cardiac death occurs, the first priority\n",
      "\n",
      "---\n",
      "\n",
      "• Chest discomfort accompanied by lightheadedness,\n",
      "fainting , sweating, nausea, or shortness of breath .\n",
      "All of these symptoms do not occur with every heart\n",
      "attack. Sometimes, symptoms disappear and then reap-pear. A person with any of these symptoms should imme-diately call an emergency rescue service or be driven tothe nearest hospital with a 24-hour cardiac care unit,whichever is quicker.\n",
      "Diagnosis\n",
      "Experienced emergency care personnel can usually\n",
      "\n",
      "---\n",
      "\n",
      "Diagnosis\n",
      "Experienced emergency care personnel can usually\n",
      "diagnose a heart attack simply by looking at the patient.To confirm this diagnosis, they talk with the patient,check heart rate and blood pressure, perform an electro-cardiogram, and take a blood sample. The electrocardio-gram shows which coronary artery is blocked. Electrodescovered with conducting jelly are placed on the patient’schest, arms, and legs. They send impulses of the heart’sactivity through an oscilloscope (a monitor) to arecorder, which traces them on paper. The blood testshows the leak of enzymes or other biochemical markersfrom damaged cells in the heart muscle.\n",
      "Treatment\n",
      "Heart attacks are treated with cardiopulmonary\n",
      "resuscitation (CPR ) when necessary to start and keep the\n",
      "patient breathing and his heart beating. Additional treat-ment can include close monitoring, electric shock, drugtherapy, re-vascularization procedures, percutaneoustransluminal coronary angioplasty and coronary artery\n",
      "\n",
      "---\n",
      "\n",
      "ents to the heart. It is caused by atherosclerosis , an accu-\n",
      "mulation of fatty materials on the inner linings of arter-ies. The resulting blockage restricts blood flow to theheart. When the blood flow is completely cut off, theresult is a heart attack .\n",
      "Description\n",
      "Coronary artery disease, also called coronary heart\n",
      "disease or heart disease, is the leading cause of death for\n",
      "both men and women in the United States. According tothe American Heart Association, in 1995 one in every 4.8deaths in the United States was caused by coronary arterydisease. About every 29 seconds, one American will havea heart attack; about every minute, one American will diefrom a heart attack. Fourteen million Americans haveactive symptoms of coronary artery disease (heart attackor chest pains). Many millions more have silent coronarydisease, the first indication of which can be sudden death.\n",
      "Coronary artery disease occurs when the coronary\n",
      "\n",
      "---\n",
      "\n",
      "Heart disease\n",
      "Heart disease is the major cause of death among\n",
      "men. It claims nearly half a million lives every year inthe United States and is more likely in men than women.Heart disease can take several forms but the most preva-lent is coronary heart disease, in which the blood vesselsthat supply the heart with oxygen become blocked andthe heart muscle becomes increasingly stressed. Arte-riosclerosis, a major factor, is the hardening of arteriesdue to the accumulation of fats and other substances.Hypertension , or high blood pressure also poses major\n",
      "risks for both heart disease and stroke. Angina pectoris\n",
      "is the chest pain associated with the early stages of heartdisease; over three million American men suffer from it.When the blockage of blood supply to the heart becomessevere, a myocardial infarction ( heart attack ) may\n",
      "occur, which can be fatal.\n",
      "The main symptom of angina pectoris is sharp pain\n",
      "\n",
      "---\n",
      "\n",
      "About half of all heart attack victims wait at least\n",
      "two hours before seeking help. This increases theirchance of sudden death or being disabled. The longerthe artery remains blocked during a heart attack, themore damage will be done to the heart. If the bloodsupply is cut off severely or for a long time, musclecells suffer irreversible injury and die. The patientcan die. That is why it is important to recognize thesigns of a heart attack and seek prompt medical atten-tion at the nearest hospital with 24-hour emergencycardiac care.About one fifth of all heart attacks are silent, that is,\n",
      "the victim does not know one has occurred. Although thevictim feels no pain , silent heart attacks can still damage\n",
      "the heart.\n",
      "The outcome of a heart attack also depends on\n",
      "\n",
      "---\n",
      "\n",
      "Atherosclerosis —A process in which the walls of\n",
      "the coronary arteries thicken due to the accumula-tion of plaque in the blood vessels. Atherosclerosisis the cause of coronary artery disease.\n",
      "Coronary arteries —The two arteries that provide\n",
      "blood to the heart. The coronary arteries surroundthe heart like a crown, coming out of the aorta,arching down over the top of the heart, and divid-ing into two branches. These are the arteries wherecoronary artery disease occurs.\n",
      "Myocardial infarction —The technical term for heart\n",
      "attack. Myocardial means heart muscle and infarc-tion means death of tissue from lack of oxygen.\n",
      "Plaque —A deposit of fatty and other substances\n",
      "that accumulate in the lining of the artery wall.\n",
      "yogurt, and cheese; and 2–3 servings of meat, poultry,\n",
      "fish, dry beans, eggs, and nuts. Fats, oils, and sweetsshould be used sparingly.\n",
      "Regular aerobic exercise can lower blood pressure,\n"
     ]
    }
   ],
   "source": [
    "results  = db.similarity_search_with_relevance_scores(query,k=10)\n",
    "context_text = '\\n\\n---\\n\\n'.join([doc.page_content for doc, _score in results])\n",
    "print(context_text)"
   ]
  },
  {
   "cell_type": "code",
   "execution_count": null,
   "metadata": {},
   "outputs": [],
   "source": []
  }
 ],
 "metadata": {
  "kernelspec": {
   "display_name": "cb",
   "language": "python",
   "name": "python3"
  },
  "language_info": {
   "codemirror_mode": {
    "name": "ipython",
    "version": 3
   },
   "file_extension": ".py",
   "mimetype": "text/x-python",
   "name": "python",
   "nbconvert_exporter": "python",
   "pygments_lexer": "ipython3",
   "version": "3.11.9"
  }
 },
 "nbformat": 4,
 "nbformat_minor": 2
}
